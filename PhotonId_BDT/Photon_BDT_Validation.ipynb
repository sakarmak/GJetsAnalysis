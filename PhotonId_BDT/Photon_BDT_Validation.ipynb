{
 "cells": [
  {
   "cell_type": "code",
   "execution_count": 1,
   "id": "c4610a00-e55d-437f-a3a7-53db5ce60db7",
   "metadata": {},
   "outputs": [
    {
     "data": {
      "text/plain": [
       "698608.0"
      ]
     },
     "execution_count": 1,
     "metadata": {},
     "output_type": "execute_result"
    }
   ],
   "source": [
    "import awkward as ak\n",
    "import numpy as np\n",
    "import uproot as up\n",
    "import hist\n",
    "from coffea.nanoevents import NanoEventsFactory, NanoAODSchema\n",
    "import matplotlib.pyplot as plt\n",
    "import correctionlib\n",
    "from coffea.jetmet_tools import FactorizedJetCorrector, JetCorrectionUncertainty\n",
    "from coffea.jetmet_tools import JECStack, CorrectedJetsFactory\n",
    "from coffea.lookup_tools import extractor\n",
    "\n",
    "fname = \"/home/saikat/analysis/MC_files/ZG2JtoG2L2J_EWK_MLL-50_MJJ-120_TuneCP5_withDipoleRecoil_13p6TeV_madgraph-pythia8/ZG2JtoG2L2J_EWK_MLL-50_MJJ-120_TuneCP5_withDipoleRecoil_13p6TeV_madgraph-pythia8.root\"\n",
    "events = NanoEventsFactory.from_root(\n",
    "    fname,\n",
    "    schemaclass=NanoAODSchema.v6,\n",
    "    metadata={\"dataset\": \"ZGammaToLLGamma\"},\n",
    ").events()\n",
    "totGenWeight = np.sum(events.genWeight)\n",
    "totGenWeight"
   ]
  },
  {
   "cell_type": "markdown",
   "id": "936b2c48-af7a-4a10-b197-05a45e1e5610",
   "metadata": {},
   "source": [
    "# Working with $\\mu$s"
   ]
  },
  {
   "cell_type": "code",
   "execution_count": 5,
   "id": "541959f4-b19e-4be6-aaa3-8471d8fa43ea",
   "metadata": {},
   "outputs": [],
   "source": [
    "#Applying Trigger cuts \n",
    "hlt = events.HLT\n",
    "#hlt.fields\n",
    "trig_cut = np.stack((hlt.IsoMu24, hlt.IsoMu27), axis=1)\n",
    "events = events[ak.any(trig_cut, axis=1)]"
   ]
  },
  {
   "cell_type": "code",
   "execution_count": 13,
   "id": "1989dfe1-0355-4c83-a9b2-d8a37319c227",
   "metadata": {},
   "outputs": [
    {
     "data": {
      "text/plain": [
       "<Array [[76.8, 26.9], [134, ... [128, 77.5]] type='152922 * var * float32[parame...'>"
      ]
     },
     "execution_count": 13,
     "metadata": {},
     "output_type": "execute_result"
    }
   ],
   "source": [
    "muon = events.Muon\n",
    "muon.fields\n",
    "muon_sel = (ak.num(muon)>=2) & (abs(muon.eta)<2.4) & (muon.tightId==1) & (abs(muon.dxy)<0.2) & (abs(muon.dz)<0.2)\n",
    "muon = muon[muon_sel]\n",
    "muon = muon[ak.num(muon)==2]\n",
    "events = events[ak.num(muon)==2]\n",
    "muon.pt"
   ]
  },
  {
   "cell_type": "code",
   "execution_count": null,
   "id": "ee516bb4-91a4-431e-888b-60c35a69a76b",
   "metadata": {},
   "outputs": [],
   "source": []
  }
 ],
 "metadata": {
  "kernelspec": {
   "display_name": "Python 3 (ipykernel)",
   "language": "python",
   "name": "python3"
  },
  "language_info": {
   "codemirror_mode": {
    "name": "ipython",
    "version": 3
   },
   "file_extension": ".py",
   "mimetype": "text/x-python",
   "name": "python",
   "nbconvert_exporter": "python",
   "pygments_lexer": "ipython3",
   "version": "3.10.12"
  }
 },
 "nbformat": 4,
 "nbformat_minor": 5
}

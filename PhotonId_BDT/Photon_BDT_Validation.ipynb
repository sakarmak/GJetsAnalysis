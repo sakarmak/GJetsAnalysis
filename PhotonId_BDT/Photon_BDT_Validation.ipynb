{
 "cells": [
  {
   "cell_type": "code",
   "execution_count": 145,
   "id": "c4610a00-e55d-437f-a3a7-53db5ce60db7",
   "metadata": {},
   "outputs": [
    {
     "data": {
      "text/plain": [
       "698608.0"
      ]
     },
     "execution_count": 145,
     "metadata": {},
     "output_type": "execute_result"
    }
   ],
   "source": [
    "import awkward as ak\n",
    "import numpy as np\n",
    "import uproot as up\n",
    "import hist\n",
    "from coffea.nanoevents import NanoEventsFactory, NanoAODSchema\n",
    "import matplotlib.pyplot as plt\n",
    "import correctionlib\n",
    "from coffea.jetmet_tools import FactorizedJetCorrector, JetCorrectionUncertainty\n",
    "from coffea.jetmet_tools import JECStack, CorrectedJetsFactory\n",
    "from coffea.lookup_tools import extractor\n",
    "from coffea.analysis_tools import PackedSelection\n",
    "\n",
    "fname = \"/home/saikat/analysis/MC_files/ZG2JtoG2L2J_EWK_MLL-50_MJJ-120_TuneCP5_withDipoleRecoil_13p6TeV_madgraph-pythia8/ZG2JtoG2L2J_EWK_MLL-50_MJJ-120_TuneCP5_withDipoleRecoil_13p6TeV_madgraph-pythia8.root\"\n",
    "events = NanoEventsFactory.from_root(\n",
    "    fname,\n",
    "    schemaclass=NanoAODSchema.v6,\n",
    "    metadata={\"dataset\": \"ZGammaToLLGamma\"},\n",
    ").events()\n",
    "totGenWeight = np.sum(events.genWeight)\n",
    "totGenWeight"
   ]
  },
  {
   "cell_type": "markdown",
   "id": "936b2c48-af7a-4a10-b197-05a45e1e5610",
   "metadata": {},
   "source": [
    "# Working with $\\mu$s"
   ]
  },
  {
   "cell_type": "code",
   "execution_count": 146,
   "id": "541959f4-b19e-4be6-aaa3-8471d8fa43ea",
   "metadata": {},
   "outputs": [
    {
     "data": {
      "text/plain": [
       "<NanoEventsArray [<event 1:132:91179>, ... ] type='204527 * event'>"
      ]
     },
     "execution_count": 146,
     "metadata": {},
     "output_type": "execute_result"
    }
   ],
   "source": [
    "#Applying Trigger cuts \n",
    "hlt = events.HLT\n",
    "#hlt.fields\n",
    "trig_cut = np.stack((hlt.IsoMu24, hlt.IsoMu27), axis=1)\n",
    "events = events[ak.any(trig_cut, axis=1)]\n",
    "events"
   ]
  },
  {
   "cell_type": "code",
   "execution_count": 147,
   "id": "1989dfe1-0355-4c83-a9b2-d8a37319c227",
   "metadata": {},
   "outputs": [
    {
     "data": {
      "text/plain": [
       "<Array [[134, 9.84], ... [47.7, 34.4]] type='119868 * var * float32[parameters={...'>"
      ]
     },
     "execution_count": 147,
     "metadata": {},
     "output_type": "execute_result"
    }
   ],
   "source": [
    "muon = events.Muon\n",
    "#muon.fields\n",
    "muon_sel = (ak.num(events.Muon)==2) & (abs(events.Muon.eta)<2.4) & (events.Muon.tightId==1) & (abs(events.Muon.dxy)<0.045) & (abs(events.Muon.dz)<0.2) & (ak.sum(events.Muon.charge, axis=1) == 0)\n",
    "events.Muon = events.Muon[muon_sel]\n",
    "#muon = muon[ak.num(muon)==2]\n",
    "events = events[ak.num(events.Muon)==2]\n",
    "events.Muon.pt"
   ]
  },
  {
   "cell_type": "code",
   "execution_count": 148,
   "id": "ee516bb4-91a4-431e-888b-60c35a69a76b",
   "metadata": {},
   "outputs": [
    {
     "name": "stdout",
     "output_type": "stream",
     "text": [
      "[[Muon, Muon], [Muon, Muon], [Muon, Muon, ... Muon], [Muon, Muon], [Muon, Muon]]\n",
      "[92.5, 88.1, 89.8, 92.1, 72.1, 84.4, 83.2, ... 90.7, 91.5, 96, 88.6, 91.3, 79.8, 90]\n",
      "[True, True, False, True, False, False, True, ... True, True, True, True, True, True]\n"
     ]
    },
    {
     "data": {
      "text/plain": [
       "<Array [[134, 9.84], ... [47.7, 34.4]] type='91463 * var * float32[parameters={\"...'>"
      ]
     },
     "execution_count": 148,
     "metadata": {},
     "output_type": "execute_result"
    }
   ],
   "source": [
    "#Di-muon Invariant mass cut\n",
    "mMuMu_cut = ((events.Muon[:,0]+events.Muon[:,1]).mass< 110) & ((events.Muon[:,0]+events.Muon[:,1]).mass> 70)\n",
    "events = events[mMuMu_cut]\n",
    "print(events.Muon)\n",
    "print((events.Muon[:,0]+events.Muon[:,1]).mass)\n",
    "print(mMuMu_cut)\n",
    "events.Muon.pt"
   ]
  },
  {
   "cell_type": "code",
   "execution_count": 149,
   "id": "c5644c46-5d8c-49ee-9a51-6f7b35c9a564",
   "metadata": {},
   "outputs": [
    {
     "data": {
      "text/plain": [
       "<Array [92.5, 88.1, 89.8, ... 91.3, 79.8, 90] type='91463 * float32'>"
      ]
     },
     "execution_count": 149,
     "metadata": {},
     "output_type": "execute_result"
    }
   ],
   "source": [
    "(events.Muon[:,0]+events.Muon[:,1]).mass\n",
    "#events.Photon.pt"
   ]
  },
  {
   "cell_type": "markdown",
   "id": "8506714d-8822-4868-b9d9-cbe5c5882b3e",
   "metadata": {},
   "source": [
    "# Working with $\\gamma$"
   ]
  },
  {
   "cell_type": "code",
   "execution_count": 150,
   "id": "f8f12fa4-6d84-4ef2-81e4-6d0e63065bb0",
   "metadata": {},
   "outputs": [
    {
     "name": "stdout",
     "output_type": "stream",
     "text": [
      "[[False], [True], [True], [True], ... True], [True], [False, False], [True, True]]\n"
     ]
    }
   ],
   "source": [
    "#Applying eta and other quality cuts\n",
    "photon_sel = (abs(events.Photon.eta)<2.5) & (events.Photon.pixelSeed==0) & (events.Photon.pfPhoIso03<0.8) & (events.Muon[:,0].delta_r(events.Photon)>0.4) & (events.Muon[:,1].delta_r(events.Photon)>0.4)\n",
    "print(photon_sel)\n",
    "events.Photon = events.Photon[photon_sel]\n",
    "events = events[ak.num(events.Photon)==1]"
   ]
  },
  {
   "cell_type": "code",
   "execution_count": 151,
   "id": "dd978caf-f41b-492a-960d-5da93def4ea9",
   "metadata": {},
   "outputs": [
    {
     "name": "stdout",
     "output_type": "stream",
     "text": [
      "['Prompt2022FG_ScaleJSON', 'Prompt2022FG_SmearingJSON']\n"
     ]
    }
   ],
   "source": [
    "# Load the correctionlib JSON file #\n",
    "evaluator = correctionlib.CorrectionSet.from_file(\"../EGmSFs/SS.json\")\n",
    "print(list(evaluator.keys()))\n",
    "# Obtain the smearing values\n",
    "evaluator_smearing = evaluator[\"Prompt2022FG_SmearingJSON\"]\n",
    "rho = evaluator_smearing.evaluate(\"rho\", events.Photon[:,0].eta, events.Photon[:,0].r9)\n",
    "rng = np.random.default_rng(seed=125)  # The smearing is done statistically, so we need some random numbers\n",
    "smearing = rng.normal(loc=1., scale=rho)\n",
    "photon_pt_smearing_nom = smearing * events.Photon[:,0].pt"
   ]
  },
  {
   "cell_type": "code",
   "execution_count": 160,
   "id": "dc218b39-9e7d-40c6-987e-8f705f359707",
   "metadata": {},
   "outputs": [
    {
     "name": "stdout",
     "output_type": "stream",
     "text": [
      "0.9141965234270619\n"
     ]
    },
    {
     "data": {
      "text/plain": [
       "array([0.01081, 0.02175, 0.0205 , ..., 0.02175, 0.01588, 0.01081])"
      ]
     },
     "execution_count": 160,
     "metadata": {},
     "output_type": "execute_result"
    },
    {
     "name": "stdout",
     "output_type": "stream",
     "text": [
      "                         : Booking \"BDT\" of type \"BDT\" from /home/saikat/Softwares/root_v6.28.10.Linux-ubuntu22-x86_64-gcc11.4/root/tutorials/tmva/dataset_BDTG_weighted/weights/TMVAClassification_BDTG.weights.xml.\n",
      "                         : Reading weight file: /home/saikat/Softwares/root_v6.28.10.Linux-ubuntu22-x86_64-gcc11.4/root/tutorials/tmva/dataset_BDTG_weighted/weights/TMVAClassification_BDTG.weights.xml\n",
      "<HEADER> DataSetInfo              : [Default] : Added class \"Signal\"\n",
      "<HEADER> DataSetInfo              : [Default] : Added class \"Background\"\n",
      "                         : Booked classifier \"BDTG\" of type: \"BDT\"\n",
      "                         : Rebuilding Dataset Default\n"
     ]
    }
   ],
   "source": [
    "import ROOT\n",
    "import array\n",
    "reader = ROOT.TMVA.Reader()\n",
    "photon_esEffSigmaRR = array.array('f',[0]); reader.AddVariable(\"photon_esEffSigmaRR\",photon_esEffSigmaRR)\n",
    "photon_energyRaw = array.array('f',[0]); reader.AddVariable(\"photon_energyRaw\",photon_energyRaw)\n",
    "photon_esEnergyOverRawE = array.array('f',[0]); reader.AddVariable(\"photon_esEnergyOverRawE\",photon_esEnergyOverRawE)\n",
    "photon_etaWidth = array.array('f',[0]); reader.AddVariable(\"photon_etaWidth\",photon_etaWidth)\n",
    "photon_hoe = array.array('f',[0]); reader.AddVariable(\"photon_hoe\",photon_hoe)\n",
    "photon_phiWidth = array.array('f',[0]); reader.AddVariable(\"photon_phiWidth\",photon_phiWidth)\n",
    "photon_r9 = array.array('f',[0]); reader.AddVariable(\"photon_r9\",photon_r9)\n",
    "photon_s4 = array.array('f',[0]); reader.AddVariable(\"photon_s4\",photon_s4)\n",
    "photon_sieie = array.array('f',[0]); reader.AddVariable(\"photon_sieie\",photon_sieie)\n",
    "photon_sieip = array.array('f',[0]); reader.AddVariable(\"photon_sieip\",photon_sieip)\n",
    "photon_sipip = array.array('f',[0]); reader.AddVariable(\"photon_sipip\",photon_sipip)\n",
    "photon_rho = array.array('f',[0]); reader.AddVariable(\"photon_rho\",photon_rho)\n",
    "\n",
    "reader.BookMVA(\"BDT\",\"/home/saikat/Softwares/root_v6.28.10.Linux-ubuntu22-x86_64-gcc11.4/root/tutorials/tmva/dataset_BDTG_weighted/weights/TMVAClassification_BDTG.weights.xml\")\n",
    "\n",
    "photon_esEffSigmaRR = events.Photon.esEffSigmaRR\n",
    "photon_energyRaw = events.Photon.energyRaw\n",
    "photon_esEnergyOverRawE = events.Photon.esEnergyOverRawE\n",
    "photon_etaWidth = events.Photon.etaWidth\n",
    "photon_hoe = events.Photon.hoe\n",
    "photon_phiWidth = events.Photon.phiWidth\n",
    "photon_r9= events.Photon.r9\n",
    "photon_s4= events.Photon.s4\n",
    "photon_sieie= events.Photon.sieie\n",
    "photon_sieip= events.Photon.sieip\n",
    "photon_sipip= events.Photon.sipip\n",
    "photon_rho = rho\n",
    "\n",
    "bdtOutput = reader.EvaluateMVA(\"BDT\")"
   ]
  },
  {
   "cell_type": "code",
   "execution_count": 153,
   "id": "ed29be18-d16a-43d2-82a1-2e936973cfb0",
   "metadata": {},
   "outputs": [],
   "source": [
    "file = up.recreate('output_ZGammaToMuMuGamma.root')\n",
    "#file[\"tree3\"] = {\"Photon_pt\": sel_photon_pt_smearing_nom,\"nJet\": nJet,\"isJet\":jet_pt_eta_cut,\"Jet_pt\": jet.pt}\n",
    "file[\"tree\"] = {\"lead_muon\": ak.zip({\n",
    "                        \"pt\": events.Muon[:,0].pt,\n",
    "                        \"eta\": events.Muon[:,0].eta,\n",
    "                        \"phi\": events.Muon[:,0].phi,\n",
    "                        \"mass\":events.Muon[:,0].mass,\n",
    "                        }),\n",
    "                \"sublead_muon\": ak.zip({\n",
    "                        \"pt\": events.Muon[:,1].pt,\n",
    "                        \"eta\": events.Muon[:,1].eta,\n",
    "                        \"phi\": events.Muon[:,1].phi,\n",
    "                        \"mass\":events.Muon[:,1].mass,\n",
    "                        }),\n",
    "                 \n",
    "                 \"dimuon_inv_mass\":(events.Muon[:,0]+events.Muon[:,1]).mass,\n",
    "                 #\"Photon_BDT\": bdtOutput,\n",
    "                 \n",
    "                 \"Photon\": ak.zip({\n",
    "                    \"pt\":events.Photon[:,0].pt,\n",
    "                #     #\"pt_smearing_up\":sel_photon_pt_smearing_up,\n",
    "                #    #\"pt_smearing_down\":sel_photon_pt_smearing_down,\n",
    "                #    #\"pt_scale_up\":sel_photon_pt_scale_up,\n",
    "                #    #\"pt_scale_down\":sel_photon_pt_scale_down,\n",
    "                    \"eta\":events.Photon[:,0].eta,\n",
    "                    \"phi\":events.Photon[:,0].phi,\n",
    "                })\n",
    "                }"
   ]
  },
  {
   "cell_type": "code",
   "execution_count": null,
   "id": "a9b5d46b-572f-4e26-b2a0-b0fe20083ef4",
   "metadata": {},
   "outputs": [],
   "source": []
  }
 ],
 "metadata": {
  "kernelspec": {
   "display_name": "Python 3 (ipykernel)",
   "language": "python",
   "name": "python3"
  },
  "language_info": {
   "codemirror_mode": {
    "name": "ipython",
    "version": 3
   },
   "file_extension": ".py",
   "mimetype": "text/x-python",
   "name": "python",
   "nbconvert_exporter": "python",
   "pygments_lexer": "ipython3",
   "version": "3.10.12"
  }
 },
 "nbformat": 4,
 "nbformat_minor": 5
}

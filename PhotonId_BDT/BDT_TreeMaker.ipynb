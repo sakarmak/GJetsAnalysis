{
 "cells": [
  {
   "cell_type": "code",
   "execution_count": 96,
   "id": "c684307f-3bc2-46bb-b232-287cdbad01eb",
   "metadata": {},
   "outputs": [],
   "source": [
    "import awkward as ak\n",
    "import numpy as np\n",
    "import uproot as up\n",
    "import hist\n",
    "import correctionlib\n",
    "from coffea.lookup_tools import extractor"
   ]
  },
  {
   "cell_type": "code",
   "execution_count": 102,
   "id": "216c5b75-a386-4605-89ec-fc547a4bac62",
   "metadata": {},
   "outputs": [
    {
     "name": "stdout",
     "output_type": "stream",
     "text": [
      "available evaluator keys:\n",
      "\t PtEta_2dWeight\n",
      "PtEta_2dWeight: 2 dimensional histogram with axes:\n",
      "\t1: [ 15.  25.  35.  45.  55.  65.  75.  85.  95. 105. 115. 125. 135. 145.\n",
      " 155. 165. 175. 185. 195. 205. 215. 225. 235. 245. 255. 265. 275. 285.\n",
      " 295. 305. 315. 325. 335. 345. 355. 365. 375. 385. 395. 405. 415. 425.\n",
      " 435. 445. 455. 465. 475. 485. 495. 505. 515. 525. 535. 545. 555. 565.\n",
      " 575. 585. 595. 605. 615.]\n",
      "\t2: [0.    0.125 0.25  0.375 0.5   0.625 0.75  0.875 1.    1.125 1.25  1.375\n",
      " 1.5   1.625 1.75  1.875 2.    2.125 2.25  2.375 2.5  ]\n",
      "\n",
      "type of PtEta_2dWeight: <class 'coffea.lookup_tools.dense_lookup.dense_lookup'>\n"
     ]
    }
   ],
   "source": [
    "ext = extractor()\n",
    "# several histograms can be imported at once using wildcards (*)\n",
    "ext.add_weight_sets([\"PtEta_2dWeight PtEta_2dWeight 2DWeight_pt_eta.root\"])\n",
    "ext.finalize()\n",
    "\n",
    "evaluator = ext.make_evaluator()\n",
    "\n",
    "print(\"available evaluator keys:\")\n",
    "for key in evaluator.keys():\n",
    "    print(\"\\t\", key)\n",
    "print(\"PtEta_2dWeight:\", evaluator['PtEta_2dWeight'])\n",
    "print(\"type of PtEta_2dWeight:\", type(evaluator['PtEta_2dWeight']))"
   ]
  },
  {
   "cell_type": "code",
   "execution_count": 86,
   "id": "6adf6101-dbc0-4993-aeed-bf4ee320ac5d",
   "metadata": {},
   "outputs": [
    {
     "name": "stdout",
     "output_type": "stream",
     "text": [
      "<TTree 'tree' (28 branches) at 0x7f5b0e5cd7b0>\n",
      "<class 'awkward.highlevel.Array'>\n"
     ]
    }
   ],
   "source": [
    "events = up.open(\"out_GJet_PT-15to6000_TuneCP5-Flat_13p6TeV_20to29.root:tree\")\n",
    "print(events)\n",
    "tot_events = events.arrays([\"photon_sieip\",\n",
    "                            \"photon_sieie\",\n",
    "                            \"photon_r9\",\n",
    "                            \"photon_etaWidth\",\n",
    "                            \"photon_phiWidth\",\n",
    "                            \"photon_esEnergyOverRawE\",\n",
    "                            \"photon_esEffSigmaRR\",\n",
    "                            \"photon_pfPhoIso03\",\n",
    "                            \"photon_hoe\",\n",
    "                            \"photon_ecalPFClusterIso\",\n",
    "                            \"photon_hcalPFClusterIso\",\n",
    "                            \"photon_energyRaw\",   \n",
    "                            \"photon_pfChargedIsoPFPV\",\n",
    "                            \"photon_pfChargedIsoWorstVtx\",\n",
    "                            \"photon_s4\",\n",
    "                            \"photon_sipip\",\n",
    "                            \"photon_pt\",\n",
    "                            \"photon_eta\",\n",
    "                            \"photon_isScEtaEB\",\n",
    "                            \"photon_isScEtaEE\",\n",
    "                            \"isPhoton\"])\n",
    "print(type(tot_events))\n",
    "#tot_df = ak.to_pandas(tot_events)\n",
    "tot_sig = tot_events[tot_events.isPhoton==1]\n",
    "tot_sig = tot_sig[ak.num(tot_sig.isPhoton)==1]\n",
    "#eta_cut_sig = np.stack((tot_sig.photon_isScEtaEB, tot_sig.photon_isScEtaEE))\n",
    "#tot_sig = tot_sig[ak.any(eta_cut_sig, axis=1)]\n",
    "#tot_sig = tot_sig[ak.num(tot_sig.isPhoton)==1]"
   ]
  },
  {
   "cell_type": "code",
   "execution_count": null,
   "id": "eb449ba5-a933-458e-be4b-629c0691311f",
   "metadata": {},
   "outputs": [],
   "source": []
  },
  {
   "cell_type": "code",
   "execution_count": 87,
   "id": "a9e01477-b515-4a2b-b696-0005fb323773",
   "metadata": {},
   "outputs": [
    {
     "data": {
      "text/plain": [
       "<Array [[0.00725], [0.00974, ... [0.00928]] type='5299160 * var * float32'>"
      ]
     },
     "execution_count": 87,
     "metadata": {},
     "output_type": "execute_result"
    }
   ],
   "source": [
    "tot_sig.photon_sieie"
   ]
  },
  {
   "cell_type": "code",
   "execution_count": 88,
   "id": "1596460a-9315-49b7-bc66-aa9100d99907",
   "metadata": {},
   "outputs": [
    {
     "name": "stdout",
     "output_type": "stream",
     "text": [
      "['Prompt2022FG_ScaleJSON', 'Prompt2022FG_SmearingJSON']\n"
     ]
    },
    {
     "data": {
      "text/plain": [
       "array([[0.01588],\n",
       "       [0.02175],\n",
       "       [0.01588],\n",
       "       ...,\n",
       "       [0.01081],\n",
       "       [0.01588],\n",
       "       [0.01588]])"
      ]
     },
     "execution_count": 88,
     "metadata": {},
     "output_type": "execute_result"
    }
   ],
   "source": [
    "# Load the correctionlib JSON file #\n",
    "evaluator = correctionlib.CorrectionSet.from_file(\"../EGmSFs/SS.json\")\n",
    "print(list(evaluator.keys()))\n",
    "# Obtain the smearing values\n",
    "evaluator_smearing = evaluator[\"Prompt2022FG_SmearingJSON\"]\n",
    "rho = evaluator_smearing.evaluate(\"rho\", tot_sig.photon_eta, tot_sig.photon_r9)\n",
    "rho"
   ]
  },
  {
   "cell_type": "code",
   "execution_count": 104,
   "id": "9c12016a-7780-4fa3-b7ad-17366f9c0be1",
   "metadata": {},
   "outputs": [],
   "source": [
    "pt_eta_2DWeight = evaluator[\"PtEta_2dWeight\"](tot_sig.photon_pt, tot_sig.photon_eta)\n",
    "file = up.recreate('GJet_PT-15to6000_TuneCP5-Flat_13p6TeV_20to29_sig.root')\n",
    "file[\"treeS\"] = {\"photon_sieip\": tot_sig.photon_sieip[:,0],\n",
    "                 \"photon_sieie\": tot_sig.photon_sieie[:,0],\n",
    "                 \"photon_r9\": tot_sig.photon_r9[:,0],\n",
    "                 \"photon_etaWidth\": tot_sig.photon_etaWidth[:,0],\n",
    "                 \"photon_phiWidth\": tot_sig.photon_phiWidth[:,0],\n",
    "                 \"photon_esEnergyOverRawE\": tot_sig.photon_esEnergyOverRawE[:,0],\n",
    "                 \"photon_esEffSigmaRR\": tot_sig.photon_esEffSigmaRR[:,0],\n",
    "                 \"photon_pfPhoIso03\": tot_sig.photon_pfPhoIso03[:,0],\n",
    "                 \"photon_hoe\": tot_sig.photon_hoe[:,0],\n",
    "                 \"photon_ecalPFClusterIso\": tot_sig.photon_ecalPFClusterIso[:,0],\n",
    "                 \"photon_hcalPFClusterIso\": tot_sig.photon_hcalPFClusterIso[:,0],\n",
    "                 \"photon_energyRaw\":   tot_sig.photon_energyRaw[:,0],\n",
    "                 \"photon_pfChargedIsoPFPV\":tot_sig.photon_pfChargedIsoPFPV[:,0],\n",
    "                 \"photon_pfChargedIsoWorstVtx\": tot_sig.photon_pfChargedIsoWorstVtx[:,0],\n",
    "                 \"photon_s4\": tot_sig.photon_s4[:,0],\n",
    "                 \"photon_sipip\": tot_sig.photon_sipip[:,0],\n",
    "                 \"photon_rho\": rho[:,0],\n",
    "                 \"photon_pt\": tot_sig.photon_pt[:,0],\n",
    "                 \"photon_eta\": tot_sig.photon_eta[:,0],\n",
    "                 \"photon_isScEtaEB\": tot_sig.photon_isScEtaEB[:,0],\n",
    "                 \"photon_isScEtaEE\": tot_sig.photon_isScEtaEE[:,0],\n",
    "                 \"pt_eta_2DWeight\": pt_eta_2DWeight[:,0],\n",
    "                 \"isPhoton\": tot_sig.isPhoton[:,0]\n",
    "                }\n",
    "pho_pt = tot_sig.photon_pt[:,0]\n",
    "pho_eta = tot_sig.photon_eta[:,0]\n",
    "pho_isScEtaEB = tot_sig.photon_isScEtaEB[:,0]\n",
    "pho_isScEtaEE = tot_sig.photon_isScEtaEE[:,0]\n",
    "\n",
    "h_photon_pt_eb = hist.Hist.new.Reg(100, 15, 1015, name=\"photon_pt_eb\").Weight()\n",
    "h_photon_eta_eb = hist.Hist.new.Reg(10, 0, 1.44, name=\"photon_eta_eb\").Weight()\n",
    "h_photon_pt_ee = hist.Hist.new.Reg(100, 15, 1015, name=\"photon_pt_ee\").Weight()\n",
    "h_photon_eta_ee = hist.Hist.new.Reg(10, 1.566, 2.5, name=\"photon_eta_ee\").Weight()\n",
    "h_pt_eta_eb = hist.Hist(hist.axis.Regular(100, 15, 1015),hist.axis.Regular(10, 0, 1.44))\n",
    "h_pt_eta_ee = hist.Hist(hist.axis.Regular(100, 15, 1015),hist.axis.Regular(10, 1.566, 2.5))\n",
    "h_pt_eta = hist.Hist(hist.axis.Regular(60, 15, 615),hist.axis.Regular(20, 0, 2.5))\n",
    "\n",
    "h_photon_pt_eb.fill(pho_pt[pho_isScEtaEB==1])\n",
    "h_photon_pt_ee.fill(pho_pt[pho_isScEtaEE==1])\n",
    "h_photon_eta_eb.fill(abs(pho_eta[pho_isScEtaEB==1]))\n",
    "h_photon_eta_ee.fill(abs(pho_eta[pho_isScEtaEE==1]))\n",
    "h_pt_eta_eb.fill(pho_pt[pho_isScEtaEB==1],abs(pho_eta[pho_isScEtaEB==1]))\n",
    "h_pt_eta_ee.fill(pho_pt[pho_isScEtaEE==1],abs(pho_eta[pho_isScEtaEE==1]))\n",
    "h_pt_eta.fill(pho_pt[pho_isScEtaEB==1],abs(pho_eta[pho_isScEtaEB==1]))\n",
    "h_pt_eta.fill(pho_pt[pho_isScEtaEE==1],abs(pho_eta[pho_isScEtaEE==1]))\n",
    "\n",
    "file[\"Photon_pt_EB\"] = h_photon_pt_eb\n",
    "file[\"Photon_pt_EE\"] = h_photon_pt_ee\n",
    "file[\"Photon_eta_EB\"] = h_photon_eta_eb\n",
    "file[\"Photon_eta_EE\"] = h_photon_eta_ee\n",
    "file[\"Photon_pt_eta_EB\"] = h_pt_eta_eb\n",
    "file[\"Photon_pt_eta_EE\"] = h_pt_eta_ee\n",
    "file[\"Photon_pt_eta\"] = h_pt_eta"
   ]
  },
  {
   "cell_type": "code",
   "execution_count": 90,
   "id": "a1bdca0a-34cc-44f9-a6a3-ffed6054fa4e",
   "metadata": {},
   "outputs": [],
   "source": [
    "###For backgrounds\n",
    "tot_bkg = tot_events[tot_events.isPhoton==0]\n",
    "tot_bkg1 = tot_bkg[ak.num(tot_bkg.isPhoton)>0]\n",
    "tot_bkg2 = tot_bkg[ak.num(tot_bkg.isPhoton)>1]\n",
    "tot_bkg3 = tot_bkg[ak.num(tot_bkg.isPhoton)>2]"
   ]
  },
  {
   "cell_type": "code",
   "execution_count": 91,
   "id": "cdb21763-a2be-431c-b435-7f5e08361822",
   "metadata": {},
   "outputs": [
    {
     "name": "stdout",
     "output_type": "stream",
     "text": [
      "[[0.0199], [0.0139], [0.03], [0.0282, ... [0.0188], [0.00144], [0.0176, 0.0102]]\n",
      "[[0.0282, 0.0186], [0.0291, 0.0101], ... [0.0112, 0.0142], [0.0176, 0.0102]]\n",
      "[[0.0293, 0.00839, 0.0174], [0.0283, 0.0145, ... 0.00876], [0.00882, 0.0343, 0.0406]]\n"
     ]
    }
   ],
   "source": [
    "print(tot_bkg1.photon_sieie)\n",
    "print(tot_bkg2.photon_sieie)\n",
    "print(tot_bkg3.photon_sieie)"
   ]
  },
  {
   "cell_type": "code",
   "execution_count": 92,
   "id": "8c3d429a-3750-4e13-92b7-2e5fe6e763e2",
   "metadata": {},
   "outputs": [
    {
     "name": "stdout",
     "output_type": "stream",
     "text": [
      "['Prompt2022FG_ScaleJSON', 'Prompt2022FG_SmearingJSON']\n",
      "[0.01588 0.01588 0.0237  ... 0.01588 0.01588 0.01588]\n"
     ]
    }
   ],
   "source": [
    "# Load the correctionlib JSON file #\n",
    "evaluator = correctionlib.CorrectionSet.from_file(\"../EGmSFs/SS.json\")\n",
    "print(list(evaluator.keys()))\n",
    "# Obtain the smearing values\n",
    "evaluator_smearing = evaluator[\"Prompt2022FG_SmearingJSON\"]\n",
    "rho1 = evaluator_smearing.evaluate(\"rho\", tot_bkg1.photon_eta[:,0], tot_bkg1.photon_r9[:,0])\n",
    "rho2 = evaluator_smearing.evaluate(\"rho\", tot_bkg2.photon_eta[:,1], tot_bkg2.photon_r9[:,1])\n",
    "rho3 = evaluator_smearing.evaluate(\"rho\", tot_bkg3.photon_eta[:,2], tot_bkg3.photon_r9[:,2])\n",
    "print(rho1)"
   ]
  },
  {
   "cell_type": "code",
   "execution_count": 93,
   "id": "2cc1b0a5-dcf7-4251-891b-1650d24e463c",
   "metadata": {},
   "outputs": [],
   "source": [
    "file = up.recreate('GJet_PT-15to6000_TuneCP5-Flat_13p6TeV_20to29_bkg1.root')\n",
    "file[\"treeB\"] = {\"photon_sieip\": tot_bkg1.photon_sieip[:,0],\n",
    "                 \"photon_sieie\": tot_bkg1.photon_sieie[:,0],\n",
    "                 \"photon_r9\": tot_bkg1.photon_r9[:,0],\n",
    "                 \"photon_etaWidth\": tot_bkg1.photon_etaWidth[:,0],\n",
    "                 \"photon_phiWidth\": tot_bkg1.photon_phiWidth[:,0],\n",
    "                 \"photon_esEnergyOverRawE\": tot_bkg1.photon_esEnergyOverRawE[:,0],\n",
    "                 \"photon_esEffSigmaRR\": tot_bkg1.photon_esEffSigmaRR[:,0],\n",
    "                 \"photon_pfPhoIso03\": tot_bkg1.photon_pfPhoIso03[:,0],\n",
    "                 \"photon_hoe\": tot_bkg1.photon_hoe[:,0],\n",
    "                 \"photon_ecalPFClusterIso\": tot_bkg1.photon_ecalPFClusterIso[:,0],\n",
    "                 \"photon_hcalPFClusterIso\": tot_bkg1.photon_hcalPFClusterIso[:,0],\n",
    "                 \"photon_energyRaw\":   tot_bkg1.photon_energyRaw[:,0],\n",
    "                 \"photon_pfChargedIsoPFPV\":tot_bkg1.photon_pfChargedIsoPFPV[:,0],\n",
    "                 \"photon_pfChargedIsoWorstVtx\": tot_bkg1.photon_pfChargedIsoWorstVtx[:,0],\n",
    "                 \"photon_s4\": tot_bkg1.photon_s4[:,0],\n",
    "                 \"photon_sipip\": tot_bkg1.photon_sipip[:,0],\n",
    "                 \"photon_rho\": rho1,\n",
    "                 \"photon_pt\": tot_bkg1.photon_pt[:,0],\n",
    "                 \"photon_eta\": tot_bkg1.photon_eta[:,0],\n",
    "                 \"photon_isScEtaEB\": tot_bkg1.photon_isScEtaEB[:,0],\n",
    "                 \"photon_isScEtaEE\": tot_bkg1.photon_isScEtaEE[:,0],\n",
    "                 \"isPhoton\": tot_bkg1.isPhoton[:,0]\n",
    "                }\n",
    "pho_pt = tot_bkg1.photon_pt[:,0]\n",
    "pho_eta = tot_bkg1.photon_eta[:,0]\n",
    "pho_isScEtaEB = tot_bkg1.photon_isScEtaEB[:,0]\n",
    "pho_isScEtaEE = tot_bkg1.photon_isScEtaEE[:,0]\n",
    "\n",
    "h_photon_pt_eb1 = hist.Hist.new.Reg(100, 15, 1015, name=\"photon_pt_eb\").Weight()\n",
    "h_photon_eta_eb1 = hist.Hist.new.Reg(10, 0, 1.44, name=\"photon_eta_eb\").Weight()\n",
    "h_photon_pt_ee1 = hist.Hist.new.Reg(100, 15, 1015, name=\"photon_pt_ee\").Weight()\n",
    "h_photon_eta_ee1 = hist.Hist.new.Reg(10, 1.566, 2.5, name=\"photon_eta_ee\").Weight()\n",
    "h_pt_eta_eb1 = hist.Hist(hist.axis.Regular(100, 15, 1015),hist.axis.Regular(10, 0, 1.44))\n",
    "h_pt_eta_ee1 = hist.Hist(hist.axis.Regular(100, 15, 1015),hist.axis.Regular(10, 1.566, 2.5))\n",
    "h_pt_eta1 = hist.Hist(hist.axis.Regular(60, 15, 615),hist.axis.Regular(20, 0, 2.5))\n",
    "\n",
    "h_photon_pt_eb1.fill(pho_pt[pho_isScEtaEB==1])\n",
    "h_photon_pt_ee1.fill(pho_pt[pho_isScEtaEE==1])\n",
    "h_photon_eta_eb1.fill(abs(pho_eta[pho_isScEtaEB==1]))\n",
    "h_photon_eta_ee1.fill(abs(pho_eta[pho_isScEtaEE==1]))\n",
    "h_pt_eta_eb1.fill(pho_pt[pho_isScEtaEB==1],abs(pho_eta[pho_isScEtaEB==1]))\n",
    "h_pt_eta_ee1.fill(pho_pt[pho_isScEtaEE==1],abs(pho_eta[pho_isScEtaEE==1]))\n",
    "h_pt_eta1.fill(pho_pt[pho_isScEtaEB==1],abs(pho_eta[pho_isScEtaEB==1]))\n",
    "h_pt_eta1.fill(pho_pt[pho_isScEtaEE==1],abs(pho_eta[pho_isScEtaEE==1]))\n",
    "\n",
    "file[\"Photon_pt_EB\"] = h_photon_pt_eb1\n",
    "file[\"Photon_pt_EE\"] = h_photon_pt_ee1\n",
    "file[\"Photon_eta_EB\"] = h_photon_eta_eb1\n",
    "file[\"Photon_eta_EE\"] = h_photon_eta_ee1\n",
    "file[\"Photon_pt_eta_EB\"] = h_pt_eta_eb1\n",
    "file[\"Photon_pt_eta_EE\"] = h_pt_eta_ee1\n",
    "file[\"Photon_pt_eta\"] = h_pt_eta1"
   ]
  },
  {
   "cell_type": "code",
   "execution_count": 94,
   "id": "85fb7db4-bdce-4706-8416-8cd48d2d92eb",
   "metadata": {},
   "outputs": [],
   "source": [
    "file = up.recreate('GJet_PT-15to6000_TuneCP5-Flat_13p6TeV_20to29_bkg2.root')\n",
    "file[\"treeB\"] = {\"photon_sieip\": tot_bkg2.photon_sieip[:,1],\n",
    "                 \"photon_sieie\": tot_bkg2.photon_sieie[:,1],\n",
    "                 \"photon_r9\": tot_bkg2.photon_r9[:,1],\n",
    "                 \"photon_etaWidth\": tot_bkg2.photon_etaWidth[:,1],\n",
    "                 \"photon_phiWidth\": tot_bkg2.photon_phiWidth[:,1],\n",
    "                 \"photon_esEnergyOverRawE\": tot_bkg2.photon_esEnergyOverRawE[:,1],\n",
    "                 \"photon_esEffSigmaRR\": tot_bkg2.photon_esEffSigmaRR[:,1],\n",
    "                 \"photon_pfPhoIso03\": tot_bkg2.photon_pfPhoIso03[:,1],\n",
    "                 \"photon_hoe\": tot_bkg2.photon_hoe[:,1],\n",
    "                 \"photon_ecalPFClusterIso\": tot_bkg2.photon_ecalPFClusterIso[:,1],\n",
    "                 \"photon_hcalPFClusterIso\": tot_bkg2.photon_hcalPFClusterIso[:,1],\n",
    "                 \"photon_energyRaw\":   tot_bkg2.photon_energyRaw[:,1],\n",
    "                 \"photon_pfChargedIsoPFPV\":tot_bkg2.photon_pfChargedIsoPFPV[:,1],\n",
    "                 \"photon_pfChargedIsoWorstVtx\": tot_bkg2.photon_pfChargedIsoWorstVtx[:,1],\n",
    "                 \"photon_s4\": tot_bkg2.photon_s4[:,1],\n",
    "                 \"photon_sipip\": tot_bkg2.photon_sipip[:,1],\n",
    "                 \"photon_rho\": rho2,\n",
    "                 \"photon_pt\": tot_bkg2.photon_pt[:,1],\n",
    "                 \"photon_eta\": tot_bkg2.photon_eta[:,1],\n",
    "                 \"photon_isScEtaEB\": tot_bkg2.photon_isScEtaEB[:,1],\n",
    "                 \"photon_isScEtaEE\": tot_bkg2.photon_isScEtaEE[:,1],\n",
    "                 \"isPhoton\": tot_bkg2.isPhoton[:,1]\n",
    "                }\n",
    "pho_pt = tot_bkg2.photon_pt[:,0]\n",
    "pho_eta = tot_bkg2.photon_eta[:,0]\n",
    "pho_isScEtaEB = tot_bkg2.photon_isScEtaEB[:,0]\n",
    "pho_isScEtaEE = tot_bkg2.photon_isScEtaEE[:,0]\n",
    "\n",
    "h_photon_pt_eb2 = hist.Hist.new.Reg(100, 15, 1015, name=\"photon_pt_eb\").Weight()\n",
    "h_photon_eta_eb2 = hist.Hist.new.Reg(10, 0, 1.44, name=\"photon_eta_eb\").Weight()\n",
    "h_photon_pt_ee2 = hist.Hist.new.Reg(100, 15, 1015, name=\"photon_pt_ee\").Weight()\n",
    "h_photon_eta_ee2 = hist.Hist.new.Reg(10, 1.566, 2.5, name=\"photon_eta_ee\").Weight()\n",
    "h_pt_eta_eb2 = hist.Hist(hist.axis.Regular(100, 15, 1015),hist.axis.Regular(10, 0, 1.44))\n",
    "h_pt_eta_ee2 = hist.Hist(hist.axis.Regular(100, 15, 1015),hist.axis.Regular(10, 1.566, 2.5))\n",
    "h_pt_eta2 = hist.Hist(hist.axis.Regular(60, 15, 615),hist.axis.Regular(20, 0, 2.5))\n",
    "\n",
    "h_photon_pt_eb2.fill(pho_pt[pho_isScEtaEB==1])\n",
    "h_photon_pt_ee2.fill(pho_pt[pho_isScEtaEE==1])\n",
    "h_photon_eta_eb2.fill(abs(pho_eta[pho_isScEtaEB==1]))\n",
    "h_photon_eta_ee2.fill(abs(pho_eta[pho_isScEtaEE==1]))\n",
    "h_pt_eta_eb2.fill(pho_pt[pho_isScEtaEB==1],abs(pho_eta[pho_isScEtaEB==1]))\n",
    "h_pt_eta_ee2.fill(pho_pt[pho_isScEtaEE==1],abs(pho_eta[pho_isScEtaEE==1]))\n",
    "h_pt_eta2.fill(pho_pt[pho_isScEtaEB==1],abs(pho_eta[pho_isScEtaEB==1]))\n",
    "h_pt_eta2.fill(pho_pt[pho_isScEtaEE==1],abs(pho_eta[pho_isScEtaEE==1]))\n",
    "\n",
    "file[\"Photon_pt_EB\"] = h_photon_pt_eb2\n",
    "file[\"Photon_pt_EE\"] = h_photon_pt_ee2\n",
    "file[\"Photon_eta_EB\"] = h_photon_eta_eb2\n",
    "file[\"Photon_eta_EE\"] = h_photon_eta_ee2\n",
    "file[\"Photon_pt_eta_EB\"] = h_pt_eta_eb2\n",
    "file[\"Photon_pt_eta_EE\"] = h_pt_eta_ee2\n",
    "file[\"Photon_pt_eta\"] = h_pt_eta2"
   ]
  },
  {
   "cell_type": "code",
   "execution_count": 95,
   "id": "b5ca7a66-d8e3-4444-b8fb-f14f38b93323",
   "metadata": {},
   "outputs": [],
   "source": [
    "file = up.recreate('GJet_PT-15to6000_TuneCP5-Flat_13p6TeV_20to29_bkg3.root')\n",
    "file[\"treeB\"] = {\"photon_sieip\": tot_bkg3.photon_sieip[:,2],\n",
    "                 \"photon_sieie\": tot_bkg3.photon_sieie[:,2],\n",
    "                 \"photon_r9\": tot_bkg3.photon_r9[:,2],\n",
    "                 \"photon_etaWidth\": tot_bkg3.photon_etaWidth[:,2],\n",
    "                 \"photon_phiWidth\": tot_bkg3.photon_phiWidth[:,2],\n",
    "                 \"photon_esEnergyOverRawE\": tot_bkg3.photon_esEnergyOverRawE[:,2],\n",
    "                 \"photon_esEffSigmaRR\": tot_bkg3.photon_esEffSigmaRR[:,2],\n",
    "                 \"photon_pfPhoIso03\": tot_bkg3.photon_pfPhoIso03[:,2],\n",
    "                 \"photon_hoe\": tot_bkg3.photon_hoe[:,2],\n",
    "                 \"photon_ecalPFClusterIso\": tot_bkg3.photon_ecalPFClusterIso[:,2],\n",
    "                 \"photon_hcalPFClusterIso\": tot_bkg3.photon_hcalPFClusterIso[:,2],\n",
    "                 \"photon_energyRaw\":   tot_bkg3.photon_energyRaw[:,2],\n",
    "                 \"photon_pfChargedIsoPFPV\":tot_bkg3.photon_pfChargedIsoPFPV[:,2],\n",
    "                 \"photon_pfChargedIsoWorstVtx\": tot_bkg3.photon_pfChargedIsoWorstVtx[:,2],\n",
    "                 \"photon_s4\": tot_bkg3.photon_s4[:,2],\n",
    "                 \"photon_sipip\": tot_bkg3.photon_sipip[:,2],\n",
    "                 \"photon_rho\": rho3,\n",
    "                 \"photon_pt\": tot_bkg3.photon_pt[:,1],\n",
    "                 \"photon_eta\": tot_bkg3.photon_eta[:,1],\n",
    "                 \"photon_isScEtaEB\": tot_bkg3.photon_isScEtaEB[:,1],\n",
    "                 \"photon_isScEtaEE\": tot_bkg3.photon_isScEtaEE[:,1],\n",
    "                 \"isPhoton\": tot_bkg3.isPhoton[:,2]\n",
    "                }\n",
    "pho_pt = tot_bkg3.photon_pt[:,0]\n",
    "pho_eta = tot_bkg3.photon_eta[:,0]\n",
    "pho_isScEtaEB = tot_bkg3.photon_isScEtaEB[:,0]\n",
    "pho_isScEtaEE = tot_bkg3.photon_isScEtaEE[:,0]\n",
    "\n",
    "h_photon_pt_eb3 = hist.Hist.new.Reg(100, 15, 1015, name=\"photon_pt_eb\").Weight()\n",
    "h_photon_eta_eb3 = hist.Hist.new.Reg(10, 0, 1.44, name=\"photon_eta_eb\").Weight()\n",
    "h_photon_pt_ee3 = hist.Hist.new.Reg(100, 15, 1015, name=\"photon_pt_ee\").Weight()\n",
    "h_photon_eta_ee3 = hist.Hist.new.Reg(10, 1.566, 2.5, name=\"photon_eta_ee\").Weight()\n",
    "h_pt_eta_eb3 = hist.Hist(hist.axis.Regular(100, 15, 1015),hist.axis.Regular(10, 0, 1.44))\n",
    "h_pt_eta_ee3 = hist.Hist(hist.axis.Regular(100, 15, 1015),hist.axis.Regular(10, 1.566, 2.5))\n",
    "h_pt_eta3 = hist.Hist(hist.axis.Regular(60, 15, 615),hist.axis.Regular(20, 0, 2.5))\n",
    "\n",
    "h_photon_pt_eb3.fill(pho_pt[pho_isScEtaEB==1])\n",
    "h_photon_pt_ee3.fill(pho_pt[pho_isScEtaEE==1])\n",
    "h_photon_eta_eb3.fill(abs(pho_eta[pho_isScEtaEB==1]))\n",
    "h_photon_eta_ee3.fill(abs(pho_eta[pho_isScEtaEE==1]))\n",
    "h_pt_eta_eb3.fill(pho_pt[pho_isScEtaEB==1],abs(pho_eta[pho_isScEtaEB==1]))\n",
    "h_pt_eta_ee3.fill(pho_pt[pho_isScEtaEE==1],abs(pho_eta[pho_isScEtaEE==1]))\n",
    "h_pt_eta3.fill(pho_pt[pho_isScEtaEB==1],abs(pho_eta[pho_isScEtaEB==1]))\n",
    "h_pt_eta3.fill(pho_pt[pho_isScEtaEE==1],abs(pho_eta[pho_isScEtaEE==1]))\n",
    "\n",
    "file[\"Photon_pt_EB\"] = h_photon_pt_eb3\n",
    "file[\"Photon_pt_EE\"] = h_photon_pt_ee3\n",
    "file[\"Photon_eta_EB\"] = h_photon_eta_eb3\n",
    "file[\"Photon_eta_EE\"] = h_photon_eta_ee3\n",
    "file[\"Photon_pt_eta_EB\"] = h_pt_eta_eb3\n",
    "file[\"Photon_pt_eta_EE\"] = h_pt_eta_ee3\n",
    "file[\"Photon_pt_eta\"] = h_pt_eta3"
   ]
  },
  {
   "cell_type": "code",
   "execution_count": null,
   "id": "9fa1076e-5b25-4570-86a5-53ab02de3647",
   "metadata": {},
   "outputs": [],
   "source": []
  }
 ],
 "metadata": {
  "kernelspec": {
   "display_name": "Python 3 (ipykernel)",
   "language": "python",
   "name": "python3"
  },
  "language_info": {
   "codemirror_mode": {
    "name": "ipython",
    "version": 3
   },
   "file_extension": ".py",
   "mimetype": "text/x-python",
   "name": "python",
   "nbconvert_exporter": "python",
   "pygments_lexer": "ipython3",
   "version": "3.10.12"
  }
 },
 "nbformat": 4,
 "nbformat_minor": 5
}

{
 "cells": [
  {
   "cell_type": "code",
   "execution_count": 440,
   "id": "257e34fd-7abf-4931-afea-9f69155395a9",
   "metadata": {},
   "outputs": [
    {
     "data": {
      "text/plain": [
       "364187000.0"
      ]
     },
     "execution_count": 440,
     "metadata": {},
     "output_type": "execute_result"
    }
   ],
   "source": [
    "import awkward as ak\n",
    "import numpy as np\n",
    "import uproot as up\n",
    "import hist\n",
    "from coffea.nanoevents import NanoEventsFactory, NanoAODSchema\n",
    "import matplotlib.pyplot as plt\n",
    "import correctionlib\n",
    "from coffea.jetmet_tools import FactorizedJetCorrector, JetCorrectionUncertainty\n",
    "from coffea.jetmet_tools import JECStack, CorrectedJetsFactory\n",
    "from coffea.lookup_tools import extractor\n",
    "\n",
    "fname = \"G-4Jets_HT-600_postEE.root\"\n",
    "events = NanoEventsFactory.from_root(\n",
    "    fname,\n",
    "    schemaclass=NanoAODSchema.v6,\n",
    "    metadata={\"dataset\": \"DYJets\"},\n",
    ").events()\n",
    "totGenWeight = np.sum(events.genWeight)\n",
    "totGenWeight"
   ]
  },
  {
   "cell_type": "markdown",
   "id": "f1f1362e-c610-4933-b6f9-b40cd4045476",
   "metadata": {},
   "source": [
    "# Working with $\\gamma$"
   ]
  },
  {
   "cell_type": "code",
   "execution_count": 441,
   "id": "1fc1d8e2-b1ec-410c-bca2-3809a605c5a3",
   "metadata": {},
   "outputs": [],
   "source": [
    "photon = events.Photon\n",
    "#photon.fields"
   ]
  },
  {
   "cell_type": "code",
   "execution_count": 442,
   "id": "b2412c54-7aec-4cbe-a55b-d22a322ad504",
   "metadata": {},
   "outputs": [
    {
     "data": {
      "text/plain": [
       "<Array [[121], [82.6], ... [63, 26.6], [84]] type='563245 * var * float32[parame...'>"
      ]
     },
     "execution_count": 442,
     "metadata": {},
     "output_type": "execute_result"
    }
   ],
   "source": [
    "#Applying Trigger cuts \n",
    "hlt = events.HLT\n",
    "trig_cut = np.stack((hlt.Photon20, hlt.Photon33, hlt.Photon50, hlt.Photon75, hlt.Photon90, hlt.Photon120, hlt.Photon150, hlt.Photon175, hlt.Photon200,), axis=1)\n",
    "photon = photon[ak.any(trig_cut, axis=1)]\n",
    "events = events[ak.any(trig_cut, axis=1)]\n",
    "photon.pt"
   ]
  },
  {
   "cell_type": "code",
   "execution_count": 443,
   "id": "b5c4a0f4-a2e5-496f-b896-eaf20e247fbd",
   "metadata": {},
   "outputs": [
    {
     "name": "stdout",
     "output_type": "stream",
     "text": [
      "[[False], [False], [False], [True], ... [True, False], [False, False], [False]]\n"
     ]
    },
    {
     "data": {
      "text/plain": [
       "<Array [[82.1], [169], ... [245], [45.5]] type='250519 * var * float32[parameter...'>"
      ]
     },
     "execution_count": 443,
     "metadata": {},
     "output_type": "execute_result"
    }
   ],
   "source": [
    "#Applying pt and eta and other quality cuts\n",
    "pt_eta_cut = (ak.num(photon)>=1) & (abs(photon.eta)<2.3) & (photon.pixelSeed==0) & (photon.mvaID_WP80==True) & (photon.pfPhoIso03<1)\n",
    "print(pt_eta_cut)\n",
    "photon = photon[pt_eta_cut]\n",
    "photon = photon[ak.num(photon)==1]\n",
    "events = events[ak.num(photon)==1]\n",
    "photon.pt"
   ]
  },
  {
   "cell_type": "code",
   "execution_count": 451,
   "id": "35d827a2-1b71-4e0c-b12b-06caa8ab251f",
   "metadata": {},
   "outputs": [
    {
     "name": "stdout",
     "output_type": "stream",
     "text": [
      "Sel Photon eta= [[0.798], [0.182], [-1.15], [0.474], [1.59, ... [-1.61], [2.26], [-1.87], [2]]\n",
      "Sel Photon phi= [[-0.523], [-2.38], [-2.11], [-1.5], ... [-0.668], [2.52], [1.86], [-1.47]]\n",
      "Gen Photon eta= [[0.287], [-0.994], [1.09], [0.794], ... 0.762], [], [-0.357], [0.452], [-0.857]]\n",
      "Gen Photon phi= [[0.996], [1.72], [-1.12], [-0.524], ... -2.87], [], [1.2], [-0.865], [0.294]]\n"
     ]
    }
   ],
   "source": [
    "deltaR = photon[:,0].delta_r(events.GenIsolatedPhoton)\n",
    "deltaR\n",
    "print('Sel Photon eta=', photon.eta)\n",
    "print('Sel Photon phi=', photon.phi)\n",
    "print('Gen Photon eta=', events.GenIsolatedPhoton.eta)\n",
    "print('Gen Photon phi=', events.GenIsolatedPhoton.phi)\n",
    "#print(ak.num(events.GenIsolatedPhoton))"
   ]
  },
  {
   "cell_type": "code",
   "execution_count": 418,
   "id": "24aea7ec-feb8-49f8-bd1d-206b35f926a9",
   "metadata": {},
   "outputs": [],
   "source": [
    "#photon = photon[ak.num(photon)==1]\n",
    "photon.pt\n",
    "sel_photon = photon[:,0]"
   ]
  },
  {
   "cell_type": "code",
   "execution_count": 419,
   "id": "069f78bf-cdb8-41b3-8678-b0fa86e49924",
   "metadata": {},
   "outputs": [
    {
     "name": "stdout",
     "output_type": "stream",
     "text": [
      "['Prompt2022FG_ScaleJSON', 'Prompt2022FG_SmearingJSON']\n"
     ]
    }
   ],
   "source": [
    "# Load the correctionlib JSON file #\n",
    "evaluator = correctionlib.CorrectionSet.from_file(\"EGmSFs/SS.json\")\n",
    "print(list(evaluator.keys()))\n",
    "# Obtain the smearing values\n",
    "evaluator_smearing = evaluator[\"Prompt2022FG_SmearingJSON\"]\n",
    "rho = evaluator_smearing.evaluate(\"rho\", sel_photon.eta, sel_photon.r9)\n",
    "rng = np.random.default_rng(seed=125)  # The smearing is done statistically, so we need some random numbers\n",
    "smearing = rng.normal(loc=1., scale=rho)\n",
    "sel_photon_pt_smearing_nom = smearing * sel_photon.pt"
   ]
  },
  {
   "cell_type": "code",
   "execution_count": 420,
   "id": "156782cf-cfdb-4796-bd28-f044df433abc",
   "metadata": {},
   "outputs": [],
   "source": [
    "# Systematic uncertainty on smearing (evaluated on MC)\n",
    "unc_rho = evaluator_smearing.evaluate(\"err_rho\", sel_photon.eta, sel_photon.r9)\n",
    "smearing_up = rng.normal(loc=1., scale=rho + unc_rho)\n",
    "smearing_down = rng.normal(loc=1., scale=rho - unc_rho)\n",
    "sel_photon_pt_smearing_up = smearing_up * sel_photon.pt\n",
    "sel_photon_pt_smearing_down = smearing_down * sel_photon.pt"
   ]
  },
  {
   "cell_type": "code",
   "execution_count": 421,
   "id": "30fd7eca-b991-4595-a246-10d52af14aa9",
   "metadata": {},
   "outputs": [
    {
     "data": {
      "text/plain": [
       "<Array [82.1, 169, 153, ... 106, 245, 45.5] type='250519 * float64'>"
      ]
     },
     "execution_count": 421,
     "metadata": {},
     "output_type": "execute_result"
    }
   ],
   "source": [
    "# Obtain the scale values. The nominal scale correction is applied on data\n",
    "evaluator_scale = evaluator[\"Prompt2022FG_ScaleJSON\"]\n",
    "\n",
    "# Systematic uncertainty for scale: Careful, this is evaluated on MC because we always apply systematics on MC, not on data\n",
    "scale_MC_unc = evaluator_scale.evaluate(\"total_uncertainty\", sel_photon.seedGain, 1.0, sel_photon.eta, sel_photon.r9, sel_photon.pt)\n",
    "\n",
    "# To use the systematic variations in your analysis, you should treat scale_up and scale_down as multiplicative factors for the uncorrected (nominal) photon pt in MC\n",
    "sel_photon_pt_scale_up = (1+scale_MC_unc) * sel_photon.pt\n",
    "sel_photon_pt_scale_down = (1-scale_MC_unc) * sel_photon.pt\n",
    "sel_photon_pt_scale_down"
   ]
  },
  {
   "cell_type": "code",
   "execution_count": 429,
   "id": "94b1074e-30c8-43bd-9ef3-fdfcc5d86c29",
   "metadata": {},
   "outputs": [
    {
     "data": {
      "text/plain": [
       "<Array [[], [], [], [], ... [], [], [], []] type='250519 * var * float32'>"
      ]
     },
     "execution_count": 429,
     "metadata": {},
     "output_type": "execute_result"
    }
   ],
   "source": [
    "deltaR = sel_photon.delta_r(events.GenIsolatedPhoton)\n",
    "deltaR[deltaR<0.5]"
   ]
  },
  {
   "cell_type": "markdown",
   "id": "06d66bf7-00d8-4a91-b772-656c9fd90a12",
   "metadata": {},
   "source": [
    "# Jet selection"
   ]
  },
  {
   "cell_type": "code",
   "execution_count": 424,
   "id": "36284897-1e8a-4e37-8d48-2d39e6ee5e41",
   "metadata": {},
   "outputs": [
    {
     "data": {
      "text/plain": [
       "<Array [[356, 187, 130, ... 54.3, 52.2, 21]] type='250519 * var * float32'>"
      ]
     },
     "execution_count": 424,
     "metadata": {},
     "output_type": "execute_result"
    }
   ],
   "source": [
    "jet = events.Jet\n",
    "ext = extractor()\n",
    "ext.add_weight_sets([\n",
    "    \"* * EGmSFs/Summer22EE_22Sep2023_V2_MC_JEC/Summer22EE_22Sep2023_V2_MC_L2Relative_AK4PFPuppi.txt\",\n",
    "    \"* * EGmSFs/Summer22EE_22Sep2023_V2_MC_JEC/Summer22EE_22Sep2023_V2_MC_Uncertainty_AK4PFPuppi.junc.txt\",\n",
    "])\n",
    "ext.finalize()\n",
    "\n",
    "jec_stack_names = [\n",
    "    \"Summer22EE_22Sep2023_V2_MC_L2Relative_AK4PFPuppi\",\n",
    "    \"Summer22EE_22Sep2023_V2_MC_Uncertainty_AK4PFPuppi\",\n",
    "]\n",
    "\n",
    "evaluator = ext.make_evaluator()\n",
    "\n",
    "jec_inputs = {name: evaluator[name] for name in jec_stack_names}\n",
    "jec_stack = JECStack(jec_inputs)\n",
    "\n",
    "name_map = jec_stack.blank_name_map\n",
    "name_map['JetPt'] = 'pt'\n",
    "name_map['JetMass'] = 'mass'\n",
    "name_map['JetEta'] = 'eta'\n",
    "name_map['JetA'] = 'area'\n",
    "\n",
    "jet['pt_raw'] = (1 - jet['rawFactor']) * jet['pt']\n",
    "jet['mass_raw'] = (1 - jet['rawFactor']) * jet['mass']\n",
    "jet['pt_gen'] = ak.values_astype(ak.fill_none(jet.matched_gen.pt, 0), np.float32)\n",
    "#jet['rho'] = ak.broadcast_arrays(events.fixedGridRhoFastjetAll, jet.pt)[0]\n",
    "name_map['ptGenJet'] = 'pt_gen'\n",
    "name_map['ptRaw'] = 'pt_raw'\n",
    "name_map['massRaw'] = 'mass_raw'\n",
    "#name_map['Rho'] = 'rho'\n",
    "\n",
    "events_cache = events.caches[0]\n",
    "corrector = FactorizedJetCorrector(\n",
    "    Summer22EE_22Sep2023_V2_MC_L2Relative_AK4PFPuppi = evaluator['Summer22EE_22Sep2023_V2_MC_L2Relative_AK4PFPuppi'],\n",
    ")\n",
    "uncertainties = JetCorrectionUncertainty(\n",
    "    Summer22EEPrompt22_JRV1_MC_SF_AK4PFPuppi=evaluator['Summer22EE_22Sep2023_V2_MC_Uncertainty_AK4PFPuppi']\n",
    ")\n",
    "\n",
    "\n",
    "jet_factory = CorrectedJetsFactory(name_map, jec_stack)\n",
    "corr_jets = jet_factory.build(jet, lazy_cache=events_cache)\n",
    "#print('new columns:', set(ak.fields(corr_jets)) - set(ak.fields(jet)))\n",
    "#print('All columns:', set(ak.fields(corr_jets)))\n",
    "#corr_jets.fields\n",
    "\n",
    "jet_sel_cut = (corr_jets.pt>30) & (abs(corr_jets.eta)<2.5) & (corr_jets.jetId==6)\n",
    "#corr_jets.JES_jes\n",
    "corr_jets.jet_energy_uncertainty_jes\n",
    "JES_down = corr_jets.jet_energy_uncertainty_jes[:,:,0]\n",
    "JES_up = corr_jets.jet_energy_uncertainty_jes[:,:,1]\n",
    "pt_jec_up = corr_jets.pt_orig*JES_up\n",
    "pt_jec_down = corr_jets.pt_orig*JES_down\n",
    "JES_up\n",
    "#corr_jets.fields\n",
    "corr_jets.pt"
   ]
  },
  {
   "cell_type": "markdown",
   "id": "e3aef473-1ce0-4a94-b5f8-1a761dfa51c5",
   "metadata": {},
   "source": [
    "# Saving different variables and Histograms in ROOT File"
   ]
  },
  {
   "cell_type": "code",
   "execution_count": 425,
   "id": "4453af43-3add-4fa2-94f9-f5c0d892ea05",
   "metadata": {},
   "outputs": [],
   "source": [
    "file = up.recreate('output_GJets_Ht_600.root')\n",
    "#file[\"tree3\"] = {\"Photon_pt\": sel_photon_pt_smearing_nom,\"nJet\": nJet,\"isJet\":jet_pt_eta_cut,\"Jet_pt\": jet.pt}\n",
    "file[\"tree\"] = {\"Jet\": ak.zip({\n",
    "                        \"pt\": corr_jets.pt,\n",
    "                        \"eta\": corr_jets.eta,\n",
    "                        \"isId\": jet_sel_cut,\n",
    "                        \"pt_orig\":corr_jets.pt_orig,\n",
    "                        \"pt_jec_nom\": corr_jets.pt_jec,\n",
    "                        \"pt_jec_up\":pt_jec_up,\n",
    "                        \"pt_jec_down\":pt_jec_down,\n",
    "                        #\"JES_jes\":corr_jets.JES_jes,\n",
    "                        #\"energy_uncertainty_jes\": corr_jets.jet_energy_uncertainty_jes,\n",
    "                        }),\n",
    "                 \"Photon\": ak.zip({\n",
    "                     \"pt_nom\":sel_photon_pt_smearing_nom,\n",
    "                     \"pt_smearing_up\":sel_photon_pt_smearing_up,\n",
    "                     \"pt_smearing_down\":sel_photon_pt_smearing_down,\n",
    "                     \"pt_scale_up\":sel_photon_pt_scale_up,\n",
    "                     \"pt_scale_down\":sel_photon_pt_scale_down,\n",
    "                     \"eta_nom\":sel_photon.eta,\n",
    "                     \"phi_nom\":sel_photon.phi,\n",
    "                 })\n",
    "                }\n",
    "import hist\n",
    "#Define the histograms\n",
    "h_photon_pt_nom = hist.Hist.new.Reg(200, 0, 1000, name=\"photon_pt\").Weight()\n",
    "h_photon_eta_nom = hist.Hist.new.Reg(60, -3, 3, name=\"photon_eta\").Weight()\n",
    "h_photon_phi_nom = hist.Hist.new.Reg(70, -3.5, 3.5, name=\"photon_phi\").Weight()\n",
    "\n",
    "h_leadJet_pt_nom = hist.Hist.new.Reg(200, 0, 1000, name=\"leadJet_pt\").Weight()\n",
    "h_leadJet_eta_nom = hist.Hist.new.Reg(60, -3, 3, name=\"leadJet_eta\").Weight()\n",
    "h_leadJet_phi_nom = hist.Hist.new.Reg(70, -3.5, 3.5, name=\"leadJet_phi\").Weight()\n",
    "#Fill the histograms\n",
    "h_photon_pt_nom.fill(sel_photon_pt_smearing_nom[sel_photon_pt_smearing_nom>20], weight=53.91*1000.0*events.genWeight[sel_photon_pt_smearing_nom>20]/totGenWeight)\n",
    "h_photon_eta_nom.fill(sel_photon.eta[sel_photon_pt_smearing_nom>20], weight=1.0)\n",
    "h_photon_phi_nom.fill(sel_photon.phi[sel_photon_pt_smearing_nom>20], weight=1.0)\n",
    "\n",
    "\n",
    "#h_leadJet_pt_nom.fill(corr_jets[:,0].pt_jec[ak.num(corr_jets[:,0].pt_jec>30], weight=1.0)\n",
    "#h_leadJet_eta_nom.fill(corr_jets[:,0].eta[corr_jets[:,0].pt_jec>30], weight=1.0)\n",
    "#h_leadJet_phi_nom.fill(corr_jets[:,0].phi[corr_jets[:,0].pt_jec>30], weight=1.0)\n",
    "\n",
    "#Save the histograms\n",
    "file[\"Photon_pt_nom\"] = h_photon_pt_nom\n",
    "file[\"Photon_eta_nom\"] = h_photon_eta_nom\n",
    "file[\"Photon_phi_nom\"] = h_photon_phi_nom\n",
    "\n",
    "file[\"leadJet_pt_nom\"] = h_leadJet_pt_nom\n",
    "file[\"leadJet_eta_nom\"] = h_leadJet_eta_nom\n",
    "file[\"leadJet_phi_nom\"] = h_leadJet_phi_nom\n",
    "\n",
    "file.close()"
   ]
  },
  {
   "cell_type": "code",
   "execution_count": null,
   "id": "b6c20497-94e1-4e82-bef1-81e814f77417",
   "metadata": {},
   "outputs": [],
   "source": [
    "#Total Gen-Weights of Gamma+jets MC samples\n",
    "#G-Jets Ht= 40 to 70 == 4.47579e+10[44694010000]    xsection = 15240*e+3[fb]\n",
    "#G-Jets Ht= 70 to 100 == 3.26817e+10   xsection = 8198*e+3\n",
    "#G-Jets Ht= 100 to 20 == 2.34393e+10   xsection = 7404*e+3\n",
    "#G-Jets Ht= 200 to 400 == 7.51799e+09[7509937000]  xsection = 1548*e+3\n",
    "#G-Jets Ht= 400 to 600 == 6.59903e+08  xsection = 166.1*e+3\n",
    "#G-Jets Ht= 600 to inf == 3.6527e+08[364187000]   xsection = 53.91*e+3"
   ]
  },
  {
   "cell_type": "code",
   "execution_count": null,
   "id": "ec9256a6-12ef-4360-92f1-212cdfc10d72",
   "metadata": {},
   "outputs": [],
   "source": [
    "fig, ax_pt = plt.subplots()\n",
    "ax_pt.hist(sel_photon_pt_smearing_nom[sel_photon_pt_smearing_nom>20], bins=100),plt.xlabel(\"$p_{T}$ [GeV]\"),plt.ylabel(\"Events\")\n",
    "\n",
    "fig, ax_eta = plt.subplots()\n",
    "ax_eta.hist(sel_photon.eta[sel_photon_pt_smearing_nom>20], bins=100), plt.xlabel(\"$\\eta$\"),plt.ylabel(\"Events\")\n",
    "\n",
    "fig, ax_r9 = plt.subplots()\n",
    "ax_r9.hist(sel_photon.r9[sel_photon_pt_smearing_nom>20], bins=100), plt.xlabel(\"$R_{9}$\"),plt.ylabel(\"Events\")\n",
    "\n",
    "fig, ax_sieie = plt.subplots()\n",
    "ax_sieie.hist(photon.sieie[sel_photon_pt_smearing_nom>20], bins=100), plt.xlabel(\"$\\sigma_{i\\eta i\\eta}$\"),plt.ylabel(\"Events\")\n",
    "\n",
    "fig, ax_sieip = plt.subplots()\n",
    "ax_sieip.hist(photon.sieip[sel_photon_pt_smearing_nom>20], bins=100), plt.xlabel(\"$\\sigma_{i\\eta i\\phi}$\"),plt.ylabel(\"Events\")\n",
    "#ax.set_xscale(\"log\")\n",
    "#ax.legend(title=\"Photon $p_{T}$ [GeV]\")"
   ]
  },
  {
   "cell_type": "code",
   "execution_count": null,
   "id": "2bbb89bf-7f2d-4aaa-b5ee-d20149e53c52",
   "metadata": {},
   "outputs": [],
   "source": []
  }
 ],
 "metadata": {
  "kernelspec": {
   "display_name": "Python 3 (ipykernel)",
   "language": "python",
   "name": "python3"
  },
  "language_info": {
   "codemirror_mode": {
    "name": "ipython",
    "version": 3
   },
   "file_extension": ".py",
   "mimetype": "text/x-python",
   "name": "python",
   "nbconvert_exporter": "python",
   "pygments_lexer": "ipython3",
   "version": "3.10.12"
  }
 },
 "nbformat": 4,
 "nbformat_minor": 5
}
